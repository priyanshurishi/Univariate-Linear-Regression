{
  "nbformat": 4,
  "nbformat_minor": 0,
  "metadata": {
    "colab": {
      "name": "Univariate Linear Regression.ipynb",
      "provenance": [],
      "authorship_tag": "ABX9TyMpVOvNFMVOnnqYl650l4ao",
      "include_colab_link": true
    },
    "kernelspec": {
      "name": "python3",
      "display_name": "Python 3"
    },
    "language_info": {
      "name": "python"
    }
  },
  "cells": [
    {
      "cell_type": "markdown",
      "metadata": {
        "id": "view-in-github",
        "colab_type": "text"
      },
      "source": [
        "<a href=\"https://colab.research.google.com/github/priyanshurishi/Univariate-Linear-Regression/blob/main/Univariate_Linear_Regression.ipynb\" target=\"_parent\"><img src=\"https://colab.research.google.com/assets/colab-badge.svg\" alt=\"Open In Colab\"/></a>"
      ]
    },
    {
      "cell_type": "code",
      "execution_count": 1,
      "metadata": {
        "colab": {
          "base_uri": "https://localhost:8080/"
        },
        "id": "yKm0_yDkxCk9",
        "outputId": "3c214fc5-2775-4784-a073-e1f4653f395b"
      },
      "outputs": [
        {
          "output_type": "stream",
          "name": "stdout",
          "text": [
            "27.00000004287766\n"
          ]
        }
      ],
      "source": [
        "class LinearRegressor:\n",
        "    def __init__(self, x, y, alpha = 0.01, b0 = 0, b1 = 0):\n",
        "        \"\"\" \n",
        "            x: input feature\n",
        "            y: result / target\n",
        "            alpha: learning rate, default is 0.01\n",
        "            b0, b1: linear regression coefficient.\n",
        "        \"\"\"\n",
        "        self.i = 0\n",
        "        self.x = x\n",
        "        self.y = y\n",
        "        self.alpha = alpha\n",
        "        self.b0 = b0\n",
        "        self.b1 = b1\n",
        "        if len(x) != len(y):\n",
        "            raise TypeError(\"x and y should have same number of rows.\")\n",
        "  \n",
        "    def predict(model, x):\n",
        "        \"\"\"Predicts the value of prediction based on \n",
        "           current value of regression coefficients when input is x\"\"\"\n",
        "        # Y = b0 + b1 * X\n",
        "        return model.b0 + model.b1 * x\n",
        "  \n",
        "    def cost_derivative(model, i):\n",
        "        x, y, b0, b1 = model.x, model.y, model.b0, model.b1\n",
        "        predict = model.predict\n",
        "        return sum([\n",
        "            2 * (predict(xi) - yi) * 1\n",
        "            if i == 0\n",
        "            else (predict(xi) - yi) * xi\n",
        "            for xi, yi in zip(x, y)\n",
        "        ]) / len(x)\n",
        "  \n",
        "    def update_coeff(model, i):\n",
        "        cost_derivative = model.cost_derivative\n",
        "        if i == 0:\n",
        "            model.b0 -= model.alpha * cost_derivative(i)\n",
        "        elif i == 1:\n",
        "            model.b1 -= model.alpha * cost_derivative(i)\n",
        "  \n",
        "    def stop_iteration(model, max_epochs = 1000):\n",
        "        model.i += 1\n",
        "        if model.i == max_epochs:\n",
        "            return True\n",
        "        else:\n",
        "            return False\n",
        "  \n",
        "    def fit(model):\n",
        "        update_coeff = model.update_coeff\n",
        "        model.i = 0\n",
        "        while True:\n",
        "            if model.stop_iteration():\n",
        "                break\n",
        "            else:\n",
        "                update_coeff(0)\n",
        "                update_coeff(1)\n",
        "  \n",
        "  \n",
        "if __name__ == '__main__':\n",
        "    linearRegressor = LinearRegressor(\n",
        "        x =[i for i in range(12)],\n",
        "        y =[2 * i + 3 for i in range(12)],\n",
        "        alpha = 0.03\n",
        "    )\n",
        "    linearRegressor.fit()\n",
        "    print(linearRegressor.predict(12))"
      ]
    },
    {
      "cell_type": "markdown",
      "source": [
        "# expects 2 * 12 + 3 = 27"
      ],
      "metadata": {
        "id": "dX5vWZW5xSwz"
      }
    }
  ]
}